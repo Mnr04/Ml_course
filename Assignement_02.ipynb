{
 "cells": [
  {
   "cell_type": "raw",
   "id": "228985b0-42fc-46dc-b3f7-561f5efb22d0",
   "metadata": {},
   "source": [
    "Authors: Ilya Baryshnikov, Maxim Uvarov, and Yury Kashnitsky. Translated and edited by Inga Kaydanova, Egor Polusmak, Anastasia Manokhina, and Yuanyuan Pao. All content is distributed under the Creative Commons CC BY-NC-SA 4.0 license."
   ]
  },
  {
   "cell_type": "markdown",
   "id": "9aa8f26f-8b0d-489b-8c72-a80ee7f58f6d",
   "metadata": {},
   "source": [
    "# Part 1. Preliminary data analysis"
   ]
  },
  {
   "cell_type": "code",
   "execution_count": 2,
   "id": "0281659d-f04b-452c-ac51-2144aa581c99",
   "metadata": {},
   "outputs": [],
   "source": [
    "# Import all required modules\n",
    "# Disable warnings\n",
    "import warnings\n",
    "\n",
    "import numpy as np\n",
    "import pandas as pd\n",
    "\n",
    "warnings.filterwarnings(\"ignore\")\n",
    "\n",
    "# Import plotting modules and set up\n",
    "import seaborn as sns\n",
    "\n",
    "sns.set()\n",
    "import matplotlib\n",
    "import matplotlib.pyplot as plt\n",
    "import matplotlib.ticker\n",
    "\n",
    "%matplotlib inline\n",
    "%config InlineBackend.figure_format = 'retina'\n",
    "\n",
    "# Tune the visual settings for figures in `seaborn`\n",
    "sns.set_context(\n",
    "    \"notebook\", font_scale=1.5, rc={\"figure.figsize\": (11, 8), \"axes.titlesize\": 18}\n",
    ")\n",
    "\n",
    "from matplotlib import rcParams\n",
    "\n",
    "rcParams[\"figure.figsize\"] = 11, 8\n",
    "\n",
    "# for Jupyter-book, we copy data from GitHub, locally, to save Internet traffic,\n",
    "# you can specify the data/ folder from the root of your cloned\n",
    "# https://github.com/Yorko/mlcourse.ai repo, to save Internet traffic\n",
    "DATA_PATH = \"https://raw.githubusercontent.com/Yorko/mlcourse.ai/main/data/\""
   ]
  },
  {
   "cell_type": "code",
   "execution_count": 3,
   "id": "4fa54b4c-02fc-4caf-b219-0c96b573559f",
   "metadata": {},
   "outputs": [
    {
     "name": "stdout",
     "output_type": "stream",
     "text": [
      "Dataset size:  (70000, 13)\n"
     ]
    },
    {
     "data": {
      "text/html": [
       "<div>\n",
       "<style scoped>\n",
       "    .dataframe tbody tr th:only-of-type {\n",
       "        vertical-align: middle;\n",
       "    }\n",
       "\n",
       "    .dataframe tbody tr th {\n",
       "        vertical-align: top;\n",
       "    }\n",
       "\n",
       "    .dataframe thead th {\n",
       "        text-align: right;\n",
       "    }\n",
       "</style>\n",
       "<table border=\"1\" class=\"dataframe\">\n",
       "  <thead>\n",
       "    <tr style=\"text-align: right;\">\n",
       "      <th></th>\n",
       "      <th>id</th>\n",
       "      <th>age</th>\n",
       "      <th>gender</th>\n",
       "      <th>height</th>\n",
       "      <th>weight</th>\n",
       "      <th>ap_hi</th>\n",
       "      <th>ap_lo</th>\n",
       "      <th>cholesterol</th>\n",
       "      <th>gluc</th>\n",
       "      <th>smoke</th>\n",
       "      <th>alco</th>\n",
       "      <th>active</th>\n",
       "      <th>cardio</th>\n",
       "    </tr>\n",
       "  </thead>\n",
       "  <tbody>\n",
       "    <tr>\n",
       "      <th>0</th>\n",
       "      <td>0</td>\n",
       "      <td>18393</td>\n",
       "      <td>2</td>\n",
       "      <td>168</td>\n",
       "      <td>62.0</td>\n",
       "      <td>110</td>\n",
       "      <td>80</td>\n",
       "      <td>1</td>\n",
       "      <td>1</td>\n",
       "      <td>0</td>\n",
       "      <td>0</td>\n",
       "      <td>1</td>\n",
       "      <td>0</td>\n",
       "    </tr>\n",
       "    <tr>\n",
       "      <th>1</th>\n",
       "      <td>1</td>\n",
       "      <td>20228</td>\n",
       "      <td>1</td>\n",
       "      <td>156</td>\n",
       "      <td>85.0</td>\n",
       "      <td>140</td>\n",
       "      <td>90</td>\n",
       "      <td>3</td>\n",
       "      <td>1</td>\n",
       "      <td>0</td>\n",
       "      <td>0</td>\n",
       "      <td>1</td>\n",
       "      <td>1</td>\n",
       "    </tr>\n",
       "    <tr>\n",
       "      <th>2</th>\n",
       "      <td>2</td>\n",
       "      <td>18857</td>\n",
       "      <td>1</td>\n",
       "      <td>165</td>\n",
       "      <td>64.0</td>\n",
       "      <td>130</td>\n",
       "      <td>70</td>\n",
       "      <td>3</td>\n",
       "      <td>1</td>\n",
       "      <td>0</td>\n",
       "      <td>0</td>\n",
       "      <td>0</td>\n",
       "      <td>1</td>\n",
       "    </tr>\n",
       "    <tr>\n",
       "      <th>3</th>\n",
       "      <td>3</td>\n",
       "      <td>17623</td>\n",
       "      <td>2</td>\n",
       "      <td>169</td>\n",
       "      <td>82.0</td>\n",
       "      <td>150</td>\n",
       "      <td>100</td>\n",
       "      <td>1</td>\n",
       "      <td>1</td>\n",
       "      <td>0</td>\n",
       "      <td>0</td>\n",
       "      <td>1</td>\n",
       "      <td>1</td>\n",
       "    </tr>\n",
       "    <tr>\n",
       "      <th>4</th>\n",
       "      <td>4</td>\n",
       "      <td>17474</td>\n",
       "      <td>1</td>\n",
       "      <td>156</td>\n",
       "      <td>56.0</td>\n",
       "      <td>100</td>\n",
       "      <td>60</td>\n",
       "      <td>1</td>\n",
       "      <td>1</td>\n",
       "      <td>0</td>\n",
       "      <td>0</td>\n",
       "      <td>0</td>\n",
       "      <td>0</td>\n",
       "    </tr>\n",
       "  </tbody>\n",
       "</table>\n",
       "</div>"
      ],
      "text/plain": [
       "   id    age  gender  height  weight  ap_hi  ap_lo  cholesterol  gluc  smoke  \\\n",
       "0   0  18393       2     168    62.0    110     80            1     1      0   \n",
       "1   1  20228       1     156    85.0    140     90            3     1      0   \n",
       "2   2  18857       1     165    64.0    130     70            3     1      0   \n",
       "3   3  17623       2     169    82.0    150    100            1     1      0   \n",
       "4   4  17474       1     156    56.0    100     60            1     1      0   \n",
       "\n",
       "   alco  active  cardio  \n",
       "0     0       1       0  \n",
       "1     0       1       1  \n",
       "2     0       0       1  \n",
       "3     0       1       1  \n",
       "4     0       0       0  "
      ]
     },
     "execution_count": 3,
     "metadata": {},
     "output_type": "execute_result"
    }
   ],
   "source": [
    "df = pd.read_csv(DATA_PATH + \"mlbootcamp5_train.csv\", sep=\";\")\n",
    "print(\"Dataset size: \", df.shape)\n",
    "df.head()"
   ]
  },
  {
   "cell_type": "code",
   "execution_count": 4,
   "id": "19b9a8d1-d162-4891-8ba0-18d1bbece862",
   "metadata": {},
   "outputs": [],
   "source": [
    "df_uniques = pd.melt(\n",
    "    frame=df,\n",
    "    value_vars=[\"gender\", \"cholesterol\", \"gluc\", \"smoke\", \"alco\", \"active\", \"cardio\"],\n",
    ")\n",
    "df_uniques = (\n",
    "    pd.DataFrame(df_uniques.groupby([\"variable\", \"value\"])[\"value\"].count())\n",
    "    .sort_index(level=[0, 1])\n",
    "    .rename(columns={\"value\": \"count\"})\n",
    "    .reset_index()\n",
    ")\n",
    "\n",
    "sns.catplot(\n",
    "    x=\"variable\", y=\"count\", hue=\"value\", data=df_uniques, kind=\"bar\"\n",
    ")\n",
    "plt.xticks(rotation='vertical');"
   ]
  },
  {
   "cell_type": "code",
   "execution_count": 5,
   "id": "5207e2b1-28d1-4d28-8d30-3a4a2c7fdc1b",
   "metadata": {},
   "outputs": [],
   "source": [
    "df_uniques = pd.melt(\n",
    "    frame=df,\n",
    "    value_vars=[\"gender\", \"cholesterol\", \"gluc\", \"smoke\", \"alco\", \"active\"],\n",
    "    id_vars=[\"cardio\"],\n",
    ")\n",
    "df_uniques = (\n",
    "    pd.DataFrame(df_uniques.groupby([\"variable\", \"value\", \"cardio\"])[\"value\"].count())\n",
    "    .sort_index(level=[0, 1])\n",
    "    .rename(columns={\"value\": \"count\"})\n",
    "    .reset_index()\n",
    ")\n",
    "\n",
    "sns.catplot(\n",
    "    x=\"variable\",\n",
    "    y=\"count\",\n",
    "    hue=\"value\",\n",
    "    col=\"cardio\",\n",
    "    data=df_uniques,\n",
    "    kind=\"bar\",\n",
    ")\n",
    "plt.xticks(rotation='vertical');"
   ]
  },
  {
   "cell_type": "code",
   "execution_count": 6,
   "id": "2af4d3d8-7ea4-4e59-806e-3eaaf3bebcc3",
   "metadata": {},
   "outputs": [
    {
     "name": "stdout",
     "output_type": "stream",
     "text": [
      "id\n",
      "70000\n",
      "----------\n",
      "age\n",
      "8076\n",
      "----------\n",
      "gender\n",
      "2 [(1, 45530), (2, 24470)]\n",
      "----------\n",
      "height\n",
      "109\n",
      "----------\n",
      "weight\n",
      "287\n",
      "----------\n",
      "ap_hi\n",
      "153\n",
      "----------\n",
      "ap_lo\n",
      "157\n",
      "----------\n",
      "cholesterol\n",
      "3 [(1, 52385), (2, 9549), (3, 8066)]\n",
      "----------\n",
      "gluc\n",
      "3 [(1, 59479), (2, 5190), (3, 5331)]\n",
      "----------\n",
      "smoke\n",
      "2 [(0, 63831), (1, 6169)]\n",
      "----------\n",
      "alco\n",
      "2 [(0, 66236), (1, 3764)]\n",
      "----------\n",
      "active\n",
      "2 [(0, 13739), (1, 56261)]\n",
      "----------\n",
      "cardio\n",
      "2 [(0, 35021), (1, 34979)]\n",
      "----------\n"
     ]
    }
   ],
   "source": [
    "for c in df.columns:\n",
    "    n = df[c].nunique()\n",
    "    print(c)\n",
    "    if n <= 3:\n",
    "        print(n, sorted(df[c].value_counts().to_dict().items()))\n",
    "    else:\n",
    "        print(n)\n",
    "    print(10 * \"-\")"
   ]
  },
  {
   "cell_type": "markdown",
   "id": "55239b32-4a91-48d2-a7eb-e9f41a7a9ec7",
   "metadata": {},
   "source": [
    "# 1.1. Basic observations"
   ]
  },
  {
   "cell_type": "markdown",
   "id": "2a74bdbd-f058-483c-8b6e-de81853cc0f7",
   "metadata": {},
   "source": [
    "**<u>Question 1.1.How many men and women are present in this dataset? Values of the gender feature were not given (whether “1” stands for women or for men) – figure this out by looking analyzing height, making the assumption that men are taller on average.</u>**"
   ]
  },
  {
   "cell_type": "code",
   "execution_count": 7,
   "id": "991130cc-86d7-4136-8762-7453a7c05657",
   "metadata": {},
   "outputs": [
    {
     "data": {
      "text/plain": [
       "Index(['id', 'age', 'gender', 'height', 'weight', 'ap_hi', 'ap_lo',\n",
       "       'cholesterol', 'gluc', 'smoke', 'alco', 'active', 'cardio'],\n",
       "      dtype='object')"
      ]
     },
     "execution_count": 7,
     "metadata": {},
     "output_type": "execute_result"
    }
   ],
   "source": [
    "df.columns"
   ]
  },
  {
   "cell_type": "code",
   "execution_count": 8,
   "id": "ed5789d1-ccbc-43cd-9617-5ec789ed08a0",
   "metadata": {},
   "outputs": [
    {
     "data": {
      "text/plain": [
       "gender\n",
       "1    45530\n",
       "2    24470\n",
       "Name: count, dtype: int64"
      ]
     },
     "execution_count": 8,
     "metadata": {},
     "output_type": "execute_result"
    }
   ],
   "source": [
    "df['gender'].value_counts()"
   ]
  },
  {
   "cell_type": "code",
   "execution_count": 10,
   "id": "b3286dda-5408-4f39-bdb6-0286f070ce04",
   "metadata": {},
   "outputs": [
    {
     "data": {
      "text/plain": [
       "161.35561168460356"
      ]
     },
     "execution_count": 10,
     "metadata": {},
     "output_type": "execute_result"
    }
   ],
   "source": [
    "gender_01 = df[df['gender']== 1 ]\n",
    "gender_01['height'].mean()"
   ]
  },
  {
   "cell_type": "code",
   "execution_count": 12,
   "id": "65d10c3f-af0f-472c-84dc-a9ee49a4a2fe",
   "metadata": {},
   "outputs": [
    {
     "data": {
      "text/plain": [
       "169.94789538210054"
      ]
     },
     "execution_count": 12,
     "metadata": {},
     "output_type": "execute_result"
    }
   ],
   "source": [
    "gender_00 = df[df['gender']== 2 ]\n",
    "gender_00['height'].mean()"
   ]
  },
  {
   "cell_type": "raw",
   "id": "5963acfe-c009-4b7c-a0f6-61c88319116b",
   "metadata": {},
   "source": [
    "Assuming that men are on average taller than women, we can infer that class 2 represents men. There are 24,470 men in the dataset, while women—represented by the other class—number 45,530."
   ]
  },
  {
   "cell_type": "markdown",
   "id": "62a16040-fe45-4832-830a-a29ae3209e23",
   "metadata": {},
   "source": [
    "**<u>Question 1.2. Who more often report consuming alcohol – men or women?</u>**\n"
   ]
  }
 ],
 "metadata": {
  "kernelspec": {
   "display_name": "Python 3 (ipykernel)",
   "language": "python",
   "name": "python3"
  },
  "language_info": {
   "codemirror_mode": {
    "name": "ipython",
    "version": 3
   },
   "file_extension": ".py",
   "mimetype": "text/x-python",
   "name": "python",
   "nbconvert_exporter": "python",
   "pygments_lexer": "ipython3",
   "version": "3.12.7"
  }
 },
 "nbformat": 4,
 "nbformat_minor": 5
}
