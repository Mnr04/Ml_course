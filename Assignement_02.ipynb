{
 "cells": [
  {
   "cell_type": "raw",
   "id": "228985b0-42fc-46dc-b3f7-561f5efb22d0",
   "metadata": {},
   "source": [
    "Authors: Ilya Baryshnikov, Maxim Uvarov, and Yury Kashnitsky. Translated and edited by Inga Kaydanova, Egor Polusmak, Anastasia Manokhina, and Yuanyuan Pao. All content is distributed under the Creative Commons CC BY-NC-SA 4.0 license."
   ]
  },
  {
   "cell_type": "markdown",
   "id": "9aa8f26f-8b0d-489b-8c72-a80ee7f58f6d",
   "metadata": {},
   "source": [
    "# Part 1. Preliminary data analysis"
   ]
  },
  {
   "cell_type": "code",
   "execution_count": 1,
   "id": "0281659d-f04b-452c-ac51-2144aa581c99",
   "metadata": {},
   "outputs": [],
   "source": [
    "# Import all required modules\n",
    "# Disable warnings\n",
    "import warnings\n",
    "\n",
    "import numpy as np\n",
    "import pandas as pd\n",
    "\n",
    "warnings.filterwarnings(\"ignore\")\n",
    "\n",
    "# Import plotting modules and set up\n",
    "import seaborn as sns\n",
    "\n",
    "sns.set()\n",
    "import matplotlib\n",
    "import matplotlib.pyplot as plt\n",
    "import matplotlib.ticker\n",
    "\n",
    "%matplotlib inline\n",
    "%config InlineBackend.figure_format = 'retina'\n",
    "\n",
    "# Tune the visual settings for figures in `seaborn`\n",
    "sns.set_context(\n",
    "    \"notebook\", font_scale=1.5, rc={\"figure.figsize\": (11, 8), \"axes.titlesize\": 18}\n",
    ")\n",
    "\n",
    "from matplotlib import rcParams\n",
    "\n",
    "rcParams[\"figure.figsize\"] = 11, 8\n",
    "\n",
    "# for Jupyter-book, we copy data from GitHub, locally, to save Internet traffic,\n",
    "# you can specify the data/ folder from the root of your cloned\n",
    "# https://github.com/Yorko/mlcourse.ai repo, to save Internet traffic\n",
    "DATA_PATH = \"https://raw.githubusercontent.com/Yorko/mlcourse.ai/main/data/\""
   ]
  },
  {
   "cell_type": "code",
   "execution_count": 2,
   "id": "4fa54b4c-02fc-4caf-b219-0c96b573559f",
   "metadata": {},
   "outputs": [
    {
     "name": "stdout",
     "output_type": "stream",
     "text": [
      "Dataset size:  (70000, 13)\n"
     ]
    },
    {
     "data": {
      "text/html": [
       "<div>\n",
       "<style scoped>\n",
       "    .dataframe tbody tr th:only-of-type {\n",
       "        vertical-align: middle;\n",
       "    }\n",
       "\n",
       "    .dataframe tbody tr th {\n",
       "        vertical-align: top;\n",
       "    }\n",
       "\n",
       "    .dataframe thead th {\n",
       "        text-align: right;\n",
       "    }\n",
       "</style>\n",
       "<table border=\"1\" class=\"dataframe\">\n",
       "  <thead>\n",
       "    <tr style=\"text-align: right;\">\n",
       "      <th></th>\n",
       "      <th>id</th>\n",
       "      <th>age</th>\n",
       "      <th>gender</th>\n",
       "      <th>height</th>\n",
       "      <th>weight</th>\n",
       "      <th>ap_hi</th>\n",
       "      <th>ap_lo</th>\n",
       "      <th>cholesterol</th>\n",
       "      <th>gluc</th>\n",
       "      <th>smoke</th>\n",
       "      <th>alco</th>\n",
       "      <th>active</th>\n",
       "      <th>cardio</th>\n",
       "    </tr>\n",
       "  </thead>\n",
       "  <tbody>\n",
       "    <tr>\n",
       "      <th>0</th>\n",
       "      <td>0</td>\n",
       "      <td>18393</td>\n",
       "      <td>2</td>\n",
       "      <td>168</td>\n",
       "      <td>62.0</td>\n",
       "      <td>110</td>\n",
       "      <td>80</td>\n",
       "      <td>1</td>\n",
       "      <td>1</td>\n",
       "      <td>0</td>\n",
       "      <td>0</td>\n",
       "      <td>1</td>\n",
       "      <td>0</td>\n",
       "    </tr>\n",
       "    <tr>\n",
       "      <th>1</th>\n",
       "      <td>1</td>\n",
       "      <td>20228</td>\n",
       "      <td>1</td>\n",
       "      <td>156</td>\n",
       "      <td>85.0</td>\n",
       "      <td>140</td>\n",
       "      <td>90</td>\n",
       "      <td>3</td>\n",
       "      <td>1</td>\n",
       "      <td>0</td>\n",
       "      <td>0</td>\n",
       "      <td>1</td>\n",
       "      <td>1</td>\n",
       "    </tr>\n",
       "    <tr>\n",
       "      <th>2</th>\n",
       "      <td>2</td>\n",
       "      <td>18857</td>\n",
       "      <td>1</td>\n",
       "      <td>165</td>\n",
       "      <td>64.0</td>\n",
       "      <td>130</td>\n",
       "      <td>70</td>\n",
       "      <td>3</td>\n",
       "      <td>1</td>\n",
       "      <td>0</td>\n",
       "      <td>0</td>\n",
       "      <td>0</td>\n",
       "      <td>1</td>\n",
       "    </tr>\n",
       "    <tr>\n",
       "      <th>3</th>\n",
       "      <td>3</td>\n",
       "      <td>17623</td>\n",
       "      <td>2</td>\n",
       "      <td>169</td>\n",
       "      <td>82.0</td>\n",
       "      <td>150</td>\n",
       "      <td>100</td>\n",
       "      <td>1</td>\n",
       "      <td>1</td>\n",
       "      <td>0</td>\n",
       "      <td>0</td>\n",
       "      <td>1</td>\n",
       "      <td>1</td>\n",
       "    </tr>\n",
       "    <tr>\n",
       "      <th>4</th>\n",
       "      <td>4</td>\n",
       "      <td>17474</td>\n",
       "      <td>1</td>\n",
       "      <td>156</td>\n",
       "      <td>56.0</td>\n",
       "      <td>100</td>\n",
       "      <td>60</td>\n",
       "      <td>1</td>\n",
       "      <td>1</td>\n",
       "      <td>0</td>\n",
       "      <td>0</td>\n",
       "      <td>0</td>\n",
       "      <td>0</td>\n",
       "    </tr>\n",
       "  </tbody>\n",
       "</table>\n",
       "</div>"
      ],
      "text/plain": [
       "   id    age  gender  height  weight  ap_hi  ap_lo  cholesterol  gluc  smoke  \\\n",
       "0   0  18393       2     168    62.0    110     80            1     1      0   \n",
       "1   1  20228       1     156    85.0    140     90            3     1      0   \n",
       "2   2  18857       1     165    64.0    130     70            3     1      0   \n",
       "3   3  17623       2     169    82.0    150    100            1     1      0   \n",
       "4   4  17474       1     156    56.0    100     60            1     1      0   \n",
       "\n",
       "   alco  active  cardio  \n",
       "0     0       1       0  \n",
       "1     0       1       1  \n",
       "2     0       0       1  \n",
       "3     0       1       1  \n",
       "4     0       0       0  "
      ]
     },
     "execution_count": 2,
     "metadata": {},
     "output_type": "execute_result"
    }
   ],
   "source": [
    "df = pd.read_csv(DATA_PATH + \"mlbootcamp5_train.csv\", sep=\";\")\n",
    "print(\"Dataset size: \", df.shape)\n",
    "df.head()"
   ]
  },
  {
   "cell_type": "code",
   "execution_count": 3,
   "id": "19b9a8d1-d162-4891-8ba0-18d1bbece862",
   "metadata": {},
   "outputs": [],
   "source": [
    "df_uniques = pd.melt(\n",
    "    frame=df,\n",
    "    value_vars=[\"gender\", \"cholesterol\", \"gluc\", \"smoke\", \"alco\", \"active\", \"cardio\"],\n",
    ")\n",
    "df_uniques = (\n",
    "    pd.DataFrame(df_uniques.groupby([\"variable\", \"value\"])[\"value\"].count())\n",
    "    .sort_index(level=[0, 1])\n",
    "    .rename(columns={\"value\": \"count\"})\n",
    "    .reset_index()\n",
    ")\n",
    "\n",
    "sns.catplot(\n",
    "    x=\"variable\", y=\"count\", hue=\"value\", data=df_uniques, kind=\"bar\"\n",
    ")\n",
    "plt.xticks(rotation='vertical');"
   ]
  },
  {
   "cell_type": "code",
   "execution_count": 4,
   "id": "5207e2b1-28d1-4d28-8d30-3a4a2c7fdc1b",
   "metadata": {},
   "outputs": [],
   "source": [
    "df_uniques = pd.melt(\n",
    "    frame=df,\n",
    "    value_vars=[\"gender\", \"cholesterol\", \"gluc\", \"smoke\", \"alco\", \"active\"],\n",
    "    id_vars=[\"cardio\"],\n",
    ")\n",
    "df_uniques = (\n",
    "    pd.DataFrame(df_uniques.groupby([\"variable\", \"value\", \"cardio\"])[\"value\"].count())\n",
    "    .sort_index(level=[0, 1])\n",
    "    .rename(columns={\"value\": \"count\"})\n",
    "    .reset_index()\n",
    ")\n",
    "\n",
    "sns.catplot(\n",
    "    x=\"variable\",\n",
    "    y=\"count\",\n",
    "    hue=\"value\",\n",
    "    col=\"cardio\",\n",
    "    data=df_uniques,\n",
    "    kind=\"bar\",\n",
    ")\n",
    "plt.xticks(rotation='vertical');"
   ]
  },
  {
   "cell_type": "code",
   "execution_count": 5,
   "id": "2af4d3d8-7ea4-4e59-806e-3eaaf3bebcc3",
   "metadata": {},
   "outputs": [
    {
     "name": "stdout",
     "output_type": "stream",
     "text": [
      "id\n",
      "70000\n",
      "----------\n",
      "age\n",
      "8076\n",
      "----------\n",
      "gender\n",
      "2 [(1, 45530), (2, 24470)]\n",
      "----------\n",
      "height\n",
      "109\n",
      "----------\n",
      "weight\n",
      "287\n",
      "----------\n",
      "ap_hi\n",
      "153\n",
      "----------\n",
      "ap_lo\n",
      "157\n",
      "----------\n",
      "cholesterol\n",
      "3 [(1, 52385), (2, 9549), (3, 8066)]\n",
      "----------\n",
      "gluc\n",
      "3 [(1, 59479), (2, 5190), (3, 5331)]\n",
      "----------\n",
      "smoke\n",
      "2 [(0, 63831), (1, 6169)]\n",
      "----------\n",
      "alco\n",
      "2 [(0, 66236), (1, 3764)]\n",
      "----------\n",
      "active\n",
      "2 [(0, 13739), (1, 56261)]\n",
      "----------\n",
      "cardio\n",
      "2 [(0, 35021), (1, 34979)]\n",
      "----------\n"
     ]
    }
   ],
   "source": [
    "for c in df.columns:\n",
    "    n = df[c].nunique()\n",
    "    print(c)\n",
    "    if n <= 3:\n",
    "        print(n, sorted(df[c].value_counts().to_dict().items()))\n",
    "    else:\n",
    "        print(n)\n",
    "    print(10 * \"-\")"
   ]
  },
  {
   "cell_type": "markdown",
   "id": "55239b32-4a91-48d2-a7eb-e9f41a7a9ec7",
   "metadata": {},
   "source": [
    "# 1.1. Basic observations"
   ]
  },
  {
   "cell_type": "markdown",
   "id": "2a74bdbd-f058-483c-8b6e-de81853cc0f7",
   "metadata": {},
   "source": [
    "**<u>Question 1.1.How many men and women are present in this dataset? Values of the gender feature were not given (whether “1” stands for women or for men) – figure this out by looking analyzing height, making the assumption that men are taller on average.</u>**"
   ]
  },
  {
   "cell_type": "code",
   "execution_count": 6,
   "id": "991130cc-86d7-4136-8762-7453a7c05657",
   "metadata": {},
   "outputs": [
    {
     "data": {
      "text/plain": [
       "Index(['id', 'age', 'gender', 'height', 'weight', 'ap_hi', 'ap_lo',\n",
       "       'cholesterol', 'gluc', 'smoke', 'alco', 'active', 'cardio'],\n",
       "      dtype='object')"
      ]
     },
     "execution_count": 6,
     "metadata": {},
     "output_type": "execute_result"
    }
   ],
   "source": [
    "df.columns"
   ]
  },
  {
   "cell_type": "code",
   "execution_count": 7,
   "id": "ed5789d1-ccbc-43cd-9617-5ec789ed08a0",
   "metadata": {},
   "outputs": [
    {
     "data": {
      "text/plain": [
       "gender\n",
       "1    45530\n",
       "2    24470\n",
       "Name: count, dtype: int64"
      ]
     },
     "execution_count": 7,
     "metadata": {},
     "output_type": "execute_result"
    }
   ],
   "source": [
    "df['gender'].value_counts()"
   ]
  },
  {
   "cell_type": "code",
   "execution_count": 8,
   "id": "b3286dda-5408-4f39-bdb6-0286f070ce04",
   "metadata": {},
   "outputs": [
    {
     "data": {
      "text/plain": [
       "161.35561168460356"
      ]
     },
     "execution_count": 8,
     "metadata": {},
     "output_type": "execute_result"
    }
   ],
   "source": [
    "gender_01 = df[df['gender']== 1 ]\n",
    "gender_01['height'].mean()"
   ]
  },
  {
   "cell_type": "code",
   "execution_count": 9,
   "id": "65d10c3f-af0f-472c-84dc-a9ee49a4a2fe",
   "metadata": {},
   "outputs": [
    {
     "data": {
      "text/plain": [
       "169.94789538210054"
      ]
     },
     "execution_count": 9,
     "metadata": {},
     "output_type": "execute_result"
    }
   ],
   "source": [
    "gender_00 = df[df['gender']== 2 ]\n",
    "gender_00['height'].mean()"
   ]
  },
  {
   "cell_type": "raw",
   "id": "5963acfe-c009-4b7c-a0f6-61c88319116b",
   "metadata": {},
   "source": [
    "Assuming that men are on average taller than women, we can infer that class 2 represents men. There are 24,470 men in the dataset, while women—represented by the other class—number 45,530."
   ]
  },
  {
   "cell_type": "markdown",
   "id": "62a16040-fe45-4832-830a-a29ae3209e23",
   "metadata": {},
   "source": [
    "**<u>Question 1.2. Who more often report consuming alcohol – men or women?</u>**\n"
   ]
  },
  {
   "cell_type": "code",
   "execution_count": 11,
   "id": "5eb6555b-357b-4b0b-9901-102c2485fcd4",
   "metadata": {},
   "outputs": [],
   "source": [
    "men = df[df['gender']== 2 ]\n",
    "woman = df[df['gender']== 1 ]"
   ]
  },
  {
   "cell_type": "code",
   "execution_count": 14,
   "id": "a86dd9d5-c45b-41cc-8859-a2837432bd33",
   "metadata": {},
   "outputs": [
    {
     "data": {
      "text/plain": [
       "2603"
      ]
     },
     "execution_count": 14,
     "metadata": {},
     "output_type": "execute_result"
    }
   ],
   "source": [
    "alcool_men = men['alco'].value_counts()[1]\n",
    "alcool_men"
   ]
  },
  {
   "cell_type": "code",
   "execution_count": 17,
   "id": "b86736b4-2d1d-4c74-b6c0-3f882d74bc95",
   "metadata": {},
   "outputs": [
    {
     "data": {
      "text/plain": [
       "1161"
      ]
     },
     "execution_count": 17,
     "metadata": {},
     "output_type": "execute_result"
    }
   ],
   "source": [
    "alcool_woman = woman['alco'].value_counts()[1]\n",
    "alcool_woman"
   ]
  },
  {
   "cell_type": "raw",
   "id": "ff25ef68-cb57-48e0-b258-0d5255fe576d",
   "metadata": {},
   "source": [
    "Given the unbalanced male-to-female ratio, we will calculate the total percentage of alcohol consumers based on the total number of individuals per gender in the dataset."
   ]
  },
  {
   "cell_type": "code",
   "execution_count": 20,
   "id": "d44b3c97-f4e0-47bd-af40-5bbc6c62642b",
   "metadata": {},
   "outputs": [
    {
     "name": "stdout",
     "output_type": "stream",
     "text": [
      "Percentage of men consuming alcohol : 10.64%\n"
     ]
    }
   ],
   "source": [
    "# Men ratio alcool\n",
    "men_ration_alcool = (alcool_men*100)/df['gender'].value_counts()[2]\n",
    "print(f\"Percentage of men consuming alcohol : {men_ration_alcool:.2f}%\")"
   ]
  },
  {
   "cell_type": "code",
   "execution_count": 22,
   "id": "f8dcf36a-b3ea-4414-8b57-7233f9cd4fc3",
   "metadata": {},
   "outputs": [
    {
     "name": "stdout",
     "output_type": "stream",
     "text": [
      "Percentage of women consuming alcohol : 2.55%\n"
     ]
    }
   ],
   "source": [
    "# Women ratio alcool\n",
    "Women_ration_alcool = (alcool_woman*100)/df['gender'].value_counts()[1]\n",
    "print(f\"Percentage of women consuming alcohol : {Women_ration_alcool:.2f}%\")"
   ]
  },
  {
   "cell_type": "markdown",
   "id": "1a47fca4-e1c5-46b8-8145-fbfc436cef02",
   "metadata": {},
   "source": [
    "**<u>Question 1.3. (1 point). What’s the rounded difference between the percentages of smokers among men and women?</u>**"
   ]
  },
  {
   "cell_type": "code",
   "execution_count": 23,
   "id": "5c939666-4148-40fa-9a2e-7e9184cd09f9",
   "metadata": {},
   "outputs": [],
   "source": [
    "men_smoke = men['smoke'].value_counts()[1]\n",
    "woman_smoke = woman['smoke'].value_counts()[1]"
   ]
  },
  {
   "cell_type": "code",
   "execution_count": 24,
   "id": "92a9e1fb-85e1-4de4-8678-500915c846aa",
   "metadata": {},
   "outputs": [
    {
     "name": "stdout",
     "output_type": "stream",
     "text": [
      "Percentage of men smoking : 21.89%\n"
     ]
    }
   ],
   "source": [
    "# Men ratio alcool\n",
    "men_ration_smoke = (men_smoke*100)/df['gender'].value_counts()[2]\n",
    "print(f\"Percentage of men smoking : {men_ration_smoke:.2f}%\")"
   ]
  },
  {
   "cell_type": "code",
   "execution_count": 26,
   "id": "dcaa806e-cab8-413b-b8e7-9dbdabfc1597",
   "metadata": {},
   "outputs": [
    {
     "name": "stdout",
     "output_type": "stream",
     "text": [
      "Percentage of woman smoking : 1.79%\n"
     ]
    }
   ],
   "source": [
    "# Woman ratio alcool\n",
    "woman_ration_smoke = (woman_smoke*100)/df['gender'].value_counts()[1]\n",
    "print(f\"Percentage of woman smoking : {woman_ration_smoke:.2f}%\")"
   ]
  },
  {
   "cell_type": "markdown",
   "id": "e2508034-24d6-4fa3-927d-622c279307bf",
   "metadata": {},
   "source": [
    "**<u>Question 1.4. (1 point). What’s the rounded difference between median values of age (in months) for non-smokers and smokers? You’ll need to figure out the units of feature age in this dataset.</u>**"
   ]
  },
  {
   "cell_type": "code",
   "execution_count": 41,
   "id": "d3049574-f4f7-465a-b191-1d4ebfa8d640",
   "metadata": {},
   "outputs": [
    {
     "name": "stdout",
     "output_type": "stream",
     "text": [
      "The median age of smokers is 19125.0 month, while the median age of non-smokers is 19722.0 month.\n"
     ]
    }
   ],
   "source": [
    "# Filters smoke / non smoke\n",
    "smoke_people_median = df[df['smoke'] == 1]['age'].median()\n",
    "non_smoke_people_median = df[df['smoke'] == 0]['age'].median()\n",
    "print(f\"The median age of smokers is {smoke_people_median:.1f} month, while the median age of non-smokers is {non_smoke_people_median:.1f} month.\")\n"
   ]
  },
  {
   "cell_type": "markdown",
   "id": "7bb93ecd-556d-408b-a6b7-59f041c31f31",
   "metadata": {},
   "source": [
    "# 1.2. Risk maps"
   ]
  },
  {
   "cell_type": "code",
   "execution_count": 47,
   "id": "1d22966a-9103-4aef-a101-ba0264020849",
   "metadata": {},
   "outputs": [
    {
     "data": {
      "text/plain": [
       "0        50.0\n",
       "1        55.0\n",
       "2        52.0\n",
       "3        48.0\n",
       "4        48.0\n",
       "         ... \n",
       "69995    53.0\n",
       "69996    62.0\n",
       "69997    52.0\n",
       "69998    61.0\n",
       "69999    56.0\n",
       "Name: age_years, Length: 70000, dtype: float64"
      ]
     },
     "execution_count": 47,
     "metadata": {},
     "output_type": "execute_result"
    }
   ],
   "source": [
    "df['age_years'] = round(df['age']/365, 0)\n",
    "# Select only 60 to 64, inclusive."
   ]
  },
  {
   "cell_type": "code",
   "execution_count": 50,
   "id": "2e4d7474-1234-4a3e-8675-603771ebde9b",
   "metadata": {},
   "outputs": [
    {
     "data": {
      "text/html": [
       "<div>\n",
       "<style scoped>\n",
       "    .dataframe tbody tr th:only-of-type {\n",
       "        vertical-align: middle;\n",
       "    }\n",
       "\n",
       "    .dataframe tbody tr th {\n",
       "        vertical-align: top;\n",
       "    }\n",
       "\n",
       "    .dataframe thead th {\n",
       "        text-align: right;\n",
       "    }\n",
       "</style>\n",
       "<table border=\"1\" class=\"dataframe\">\n",
       "  <thead>\n",
       "    <tr style=\"text-align: right;\">\n",
       "      <th></th>\n",
       "      <th>id</th>\n",
       "      <th>age</th>\n",
       "      <th>gender</th>\n",
       "      <th>height</th>\n",
       "      <th>weight</th>\n",
       "      <th>ap_hi</th>\n",
       "      <th>ap_lo</th>\n",
       "      <th>cholesterol</th>\n",
       "      <th>gluc</th>\n",
       "      <th>smoke</th>\n",
       "      <th>alco</th>\n",
       "      <th>active</th>\n",
       "      <th>cardio</th>\n",
       "      <th>age_years</th>\n",
       "    </tr>\n",
       "  </thead>\n",
       "  <tbody>\n",
       "    <tr>\n",
       "      <th>5</th>\n",
       "      <td>8</td>\n",
       "      <td>21914</td>\n",
       "      <td>1</td>\n",
       "      <td>151</td>\n",
       "      <td>67.0</td>\n",
       "      <td>120</td>\n",
       "      <td>80</td>\n",
       "      <td>2</td>\n",
       "      <td>2</td>\n",
       "      <td>0</td>\n",
       "      <td>0</td>\n",
       "      <td>0</td>\n",
       "      <td>0</td>\n",
       "      <td>60.0</td>\n",
       "    </tr>\n",
       "    <tr>\n",
       "      <th>6</th>\n",
       "      <td>9</td>\n",
       "      <td>22113</td>\n",
       "      <td>1</td>\n",
       "      <td>157</td>\n",
       "      <td>93.0</td>\n",
       "      <td>130</td>\n",
       "      <td>80</td>\n",
       "      <td>3</td>\n",
       "      <td>1</td>\n",
       "      <td>0</td>\n",
       "      <td>0</td>\n",
       "      <td>1</td>\n",
       "      <td>0</td>\n",
       "      <td>61.0</td>\n",
       "    </tr>\n",
       "    <tr>\n",
       "      <th>7</th>\n",
       "      <td>12</td>\n",
       "      <td>22584</td>\n",
       "      <td>2</td>\n",
       "      <td>178</td>\n",
       "      <td>95.0</td>\n",
       "      <td>130</td>\n",
       "      <td>90</td>\n",
       "      <td>3</td>\n",
       "      <td>3</td>\n",
       "      <td>0</td>\n",
       "      <td>0</td>\n",
       "      <td>1</td>\n",
       "      <td>1</td>\n",
       "      <td>62.0</td>\n",
       "    </tr>\n",
       "    <tr>\n",
       "      <th>10</th>\n",
       "      <td>15</td>\n",
       "      <td>22530</td>\n",
       "      <td>1</td>\n",
       "      <td>169</td>\n",
       "      <td>80.0</td>\n",
       "      <td>120</td>\n",
       "      <td>80</td>\n",
       "      <td>1</td>\n",
       "      <td>1</td>\n",
       "      <td>0</td>\n",
       "      <td>0</td>\n",
       "      <td>1</td>\n",
       "      <td>0</td>\n",
       "      <td>62.0</td>\n",
       "    </tr>\n",
       "    <tr>\n",
       "      <th>19</th>\n",
       "      <td>29</td>\n",
       "      <td>21755</td>\n",
       "      <td>2</td>\n",
       "      <td>162</td>\n",
       "      <td>56.0</td>\n",
       "      <td>120</td>\n",
       "      <td>70</td>\n",
       "      <td>1</td>\n",
       "      <td>1</td>\n",
       "      <td>1</td>\n",
       "      <td>0</td>\n",
       "      <td>1</td>\n",
       "      <td>0</td>\n",
       "      <td>60.0</td>\n",
       "    </tr>\n",
       "    <tr>\n",
       "      <th>...</th>\n",
       "      <td>...</td>\n",
       "      <td>...</td>\n",
       "      <td>...</td>\n",
       "      <td>...</td>\n",
       "      <td>...</td>\n",
       "      <td>...</td>\n",
       "      <td>...</td>\n",
       "      <td>...</td>\n",
       "      <td>...</td>\n",
       "      <td>...</td>\n",
       "      <td>...</td>\n",
       "      <td>...</td>\n",
       "      <td>...</td>\n",
       "      <td>...</td>\n",
       "    </tr>\n",
       "    <tr>\n",
       "      <th>69973</th>\n",
       "      <td>99961</td>\n",
       "      <td>22142</td>\n",
       "      <td>2</td>\n",
       "      <td>175</td>\n",
       "      <td>72.0</td>\n",
       "      <td>130</td>\n",
       "      <td>80</td>\n",
       "      <td>1</td>\n",
       "      <td>1</td>\n",
       "      <td>0</td>\n",
       "      <td>0</td>\n",
       "      <td>1</td>\n",
       "      <td>0</td>\n",
       "      <td>61.0</td>\n",
       "    </tr>\n",
       "    <tr>\n",
       "      <th>69979</th>\n",
       "      <td>99969</td>\n",
       "      <td>22423</td>\n",
       "      <td>1</td>\n",
       "      <td>163</td>\n",
       "      <td>74.0</td>\n",
       "      <td>160</td>\n",
       "      <td>100</td>\n",
       "      <td>2</td>\n",
       "      <td>2</td>\n",
       "      <td>0</td>\n",
       "      <td>0</td>\n",
       "      <td>1</td>\n",
       "      <td>1</td>\n",
       "      <td>61.0</td>\n",
       "    </tr>\n",
       "    <tr>\n",
       "      <th>69988</th>\n",
       "      <td>99981</td>\n",
       "      <td>21978</td>\n",
       "      <td>1</td>\n",
       "      <td>160</td>\n",
       "      <td>59.0</td>\n",
       "      <td>110</td>\n",
       "      <td>70</td>\n",
       "      <td>1</td>\n",
       "      <td>1</td>\n",
       "      <td>0</td>\n",
       "      <td>0</td>\n",
       "      <td>1</td>\n",
       "      <td>0</td>\n",
       "      <td>60.0</td>\n",
       "    </tr>\n",
       "    <tr>\n",
       "      <th>69996</th>\n",
       "      <td>99995</td>\n",
       "      <td>22601</td>\n",
       "      <td>1</td>\n",
       "      <td>158</td>\n",
       "      <td>126.0</td>\n",
       "      <td>140</td>\n",
       "      <td>90</td>\n",
       "      <td>2</td>\n",
       "      <td>2</td>\n",
       "      <td>0</td>\n",
       "      <td>0</td>\n",
       "      <td>1</td>\n",
       "      <td>1</td>\n",
       "      <td>62.0</td>\n",
       "    </tr>\n",
       "    <tr>\n",
       "      <th>69998</th>\n",
       "      <td>99998</td>\n",
       "      <td>22431</td>\n",
       "      <td>1</td>\n",
       "      <td>163</td>\n",
       "      <td>72.0</td>\n",
       "      <td>135</td>\n",
       "      <td>80</td>\n",
       "      <td>1</td>\n",
       "      <td>2</td>\n",
       "      <td>0</td>\n",
       "      <td>0</td>\n",
       "      <td>0</td>\n",
       "      <td>1</td>\n",
       "      <td>61.0</td>\n",
       "    </tr>\n",
       "  </tbody>\n",
       "</table>\n",
       "<p>15548 rows × 14 columns</p>\n",
       "</div>"
      ],
      "text/plain": [
       "          id    age  gender  height  weight  ap_hi  ap_lo  cholesterol  gluc  \\\n",
       "5          8  21914       1     151    67.0    120     80            2     2   \n",
       "6          9  22113       1     157    93.0    130     80            3     1   \n",
       "7         12  22584       2     178    95.0    130     90            3     3   \n",
       "10        15  22530       1     169    80.0    120     80            1     1   \n",
       "19        29  21755       2     162    56.0    120     70            1     1   \n",
       "...      ...    ...     ...     ...     ...    ...    ...          ...   ...   \n",
       "69973  99961  22142       2     175    72.0    130     80            1     1   \n",
       "69979  99969  22423       1     163    74.0    160    100            2     2   \n",
       "69988  99981  21978       1     160    59.0    110     70            1     1   \n",
       "69996  99995  22601       1     158   126.0    140     90            2     2   \n",
       "69998  99998  22431       1     163    72.0    135     80            1     2   \n",
       "\n",
       "       smoke  alco  active  cardio  age_years  \n",
       "5          0     0       0       0       60.0  \n",
       "6          0     0       1       0       61.0  \n",
       "7          0     0       1       1       62.0  \n",
       "10         0     0       1       0       62.0  \n",
       "19         1     0       1       0       60.0  \n",
       "...      ...   ...     ...     ...        ...  \n",
       "69973      0     0       1       0       61.0  \n",
       "69979      0     0       1       1       61.0  \n",
       "69988      0     0       1       0       60.0  \n",
       "69996      0     0       1       1       62.0  \n",
       "69998      0     0       0       1       61.0  \n",
       "\n",
       "[15548 rows x 14 columns]"
      ]
     },
     "execution_count": 50,
     "metadata": {},
     "output_type": "execute_result"
    }
   ],
   "source": [
    "age_filter = df[(df['age_years']>= 60) & (df['age_years'] <= 64)]\n",
    "age_filter"
   ]
  },
  {
   "cell_type": "code",
   "execution_count": null,
   "id": "22569975-8f20-44bc-bb3c-9dba9054d3d0",
   "metadata": {},
   "outputs": [],
   "source": [
    "# caluler le ratio malade / Sain en utilisant notre dataset et en le comparant au tableau"
   ]
  },
  {
   "cell_type": "code",
   "execution_count": 51,
   "id": "0ff5a56b-7a55-425a-b3f0-5db96ce70776",
   "metadata": {},
   "outputs": [],
   "source": [
    "# Group 1 --> mens, chol==8+, ap_hi = blood pleasure >= 180\n",
    "group1 = df[(df['gender']==2) &  (df['cholesterol']>8) & df['ap_hi'] >= 180]"
   ]
  },
  {
   "cell_type": "code",
   "execution_count": 54,
   "id": "a677cd16-2d3f-48a7-b3b9-effcade071b8",
   "metadata": {},
   "outputs": [],
   "source": [
    "# Group 2 --> mens, chol==1, ap_hi = blood pleasure <= 120\n",
    "group2 = df[(df['gender']==2) &  (df['cholesterol']<= 1) & df['ap_hi'] <= 120]"
   ]
  },
  {
   "cell_type": "code",
   "execution_count": 55,
   "id": "80e7c411-2ba3-4c7d-b8cd-a3857193d7a0",
   "metadata": {},
   "outputs": [],
   "source": [
    "risk_group1 = group1['cardio'].mean()\n",
    "risk_group2 = group2['cardio'].mean()"
   ]
  },
  {
   "cell_type": "code",
   "execution_count": 57,
   "id": "7a363139-1f95-405b-84eb-fe9519e564f8",
   "metadata": {},
   "outputs": [
    {
     "data": {
      "text/plain": [
       "1.0"
      ]
     },
     "execution_count": 57,
     "metadata": {},
     "output_type": "execute_result"
    }
   ],
   "source": [
    "risk_ratio = risk_group2 / risk_group1\n",
    "risk_ratio"
   ]
  }
 ],
 "metadata": {
  "kernelspec": {
   "display_name": "Python 3 (ipykernel)",
   "language": "python",
   "name": "python3"
  },
  "language_info": {
   "codemirror_mode": {
    "name": "ipython",
    "version": 3
   },
   "file_extension": ".py",
   "mimetype": "text/x-python",
   "name": "python",
   "nbconvert_exporter": "python",
   "pygments_lexer": "ipython3",
   "version": "3.12.7"
  }
 },
 "nbformat": 4,
 "nbformat_minor": 5
}
